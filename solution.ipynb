{
 "cells": [
  {
   "cell_type": "code",
   "execution_count": 463,
   "metadata": {},
   "outputs": [
    {
     "name": "stdout",
     "output_type": "stream",
     "text": [
      "\f",
      "\n"
     ]
    }
   ],
   "source": [
    "clear()"
   ]
  },
  {
   "cell_type": "code",
   "execution_count": 464,
   "metadata": {},
   "outputs": [],
   "source": [
    "import numpy as np\n",
    "import pandas as pd\n",
    "import matplotlib.pyplot as plt\n",
    "import seaborn as sns"
   ]
  },
  {
   "cell_type": "code",
   "execution_count": 465,
   "metadata": {},
   "outputs": [],
   "source": [
    "train=pd.read_csv('train_8wry4cB.csv')"
   ]
  },
  {
   "cell_type": "code",
   "execution_count": 466,
   "metadata": {},
   "outputs": [
    {
     "data": {
      "text/html": [
       "<div>\n",
       "<style scoped>\n",
       "    .dataframe tbody tr th:only-of-type {\n",
       "        vertical-align: middle;\n",
       "    }\n",
       "\n",
       "    .dataframe tbody tr th {\n",
       "        vertical-align: top;\n",
       "    }\n",
       "\n",
       "    .dataframe thead th {\n",
       "        text-align: right;\n",
       "    }\n",
       "</style>\n",
       "<table border=\"1\" class=\"dataframe\">\n",
       "  <thead>\n",
       "    <tr style=\"text-align: right;\">\n",
       "      <th></th>\n",
       "      <th>session_id</th>\n",
       "      <th>startTime</th>\n",
       "      <th>endTime</th>\n",
       "      <th>ProductList</th>\n",
       "      <th>gender</th>\n",
       "    </tr>\n",
       "  </thead>\n",
       "  <tbody>\n",
       "    <tr>\n",
       "      <td>0</td>\n",
       "      <td>u16159</td>\n",
       "      <td>15/12/14 18:11</td>\n",
       "      <td>15/12/14 18:12</td>\n",
       "      <td>A00002/B00003/C00006/D28435/;A00002/B00003/C00...</td>\n",
       "      <td>female</td>\n",
       "    </tr>\n",
       "    <tr>\n",
       "      <td>1</td>\n",
       "      <td>u10253</td>\n",
       "      <td>16/12/14 14:35</td>\n",
       "      <td>16/12/14 14:41</td>\n",
       "      <td>A00001/B00009/C00031/D29404/;A00001/B00009/C00...</td>\n",
       "      <td>male</td>\n",
       "    </tr>\n",
       "    <tr>\n",
       "      <td>2</td>\n",
       "      <td>u19037</td>\n",
       "      <td>01/12/14 15:58</td>\n",
       "      <td>01/12/14 15:58</td>\n",
       "      <td>A00002/B00001/C00020/D16944/</td>\n",
       "      <td>female</td>\n",
       "    </tr>\n",
       "    <tr>\n",
       "      <td>3</td>\n",
       "      <td>u14556</td>\n",
       "      <td>23/11/14 2:57</td>\n",
       "      <td>23/11/14 3:00</td>\n",
       "      <td>A00002/B00004/C00018/D10284/;A00002/B00004/C00...</td>\n",
       "      <td>female</td>\n",
       "    </tr>\n",
       "    <tr>\n",
       "      <td>4</td>\n",
       "      <td>u24295</td>\n",
       "      <td>17/12/14 16:44</td>\n",
       "      <td>17/12/14 16:46</td>\n",
       "      <td>A00001/B00001/C00012/D30805/;A00001/B00001/C00...</td>\n",
       "      <td>male</td>\n",
       "    </tr>\n",
       "  </tbody>\n",
       "</table>\n",
       "</div>"
      ],
      "text/plain": [
       "  session_id       startTime         endTime  \\\n",
       "0     u16159  15/12/14 18:11  15/12/14 18:12   \n",
       "1     u10253  16/12/14 14:35  16/12/14 14:41   \n",
       "2     u19037  01/12/14 15:58  01/12/14 15:58   \n",
       "3     u14556   23/11/14 2:57   23/11/14 3:00   \n",
       "4     u24295  17/12/14 16:44  17/12/14 16:46   \n",
       "\n",
       "                                         ProductList  gender  \n",
       "0  A00002/B00003/C00006/D28435/;A00002/B00003/C00...  female  \n",
       "1  A00001/B00009/C00031/D29404/;A00001/B00009/C00...    male  \n",
       "2                       A00002/B00001/C00020/D16944/  female  \n",
       "3  A00002/B00004/C00018/D10284/;A00002/B00004/C00...  female  \n",
       "4  A00001/B00001/C00012/D30805/;A00001/B00001/C00...    male  "
      ]
     },
     "execution_count": 466,
     "metadata": {},
     "output_type": "execute_result"
    }
   ],
   "source": [
    "train.head()"
   ]
  },
  {
   "cell_type": "code",
   "execution_count": 467,
   "metadata": {},
   "outputs": [],
   "source": [
    "train1=train.copy()"
   ]
  },
  {
   "cell_type": "code",
   "execution_count": 468,
   "metadata": {},
   "outputs": [
    {
     "name": "stdout",
     "output_type": "stream",
     "text": [
      "<class 'pandas.core.frame.DataFrame'>\n",
      "RangeIndex: 10500 entries, 0 to 10499\n",
      "Data columns (total 5 columns):\n",
      "session_id     10500 non-null object\n",
      "startTime      10500 non-null object\n",
      "endTime        10500 non-null object\n",
      "ProductList    10500 non-null object\n",
      "gender         10500 non-null object\n",
      "dtypes: object(5)\n",
      "memory usage: 410.3+ KB\n"
     ]
    }
   ],
   "source": [
    "train1.info()"
   ]
  },
  {
   "cell_type": "markdown",
   "metadata": {},
   "source": [
    "# Data Preprocessing"
   ]
  },
  {
   "cell_type": "code",
   "execution_count": 469,
   "metadata": {},
   "outputs": [],
   "source": [
    "train1['startTime']=train1['startTime'].astype('datetime64[ns]')"
   ]
  },
  {
   "cell_type": "code",
   "execution_count": 470,
   "metadata": {},
   "outputs": [],
   "source": [
    "train1['endTime']=train1['endTime'].astype('datetime64[ns]')"
   ]
  },
  {
   "cell_type": "markdown",
   "metadata": {},
   "source": [
    "# Create a new column to calculate total time spent by customer"
   ]
  },
  {
   "cell_type": "code",
   "execution_count": 471,
   "metadata": {},
   "outputs": [],
   "source": [
    "train1['total_time_spent']=train1['endTime']-train1['startTime']"
   ]
  },
  {
   "cell_type": "code",
   "execution_count": 472,
   "metadata": {},
   "outputs": [],
   "source": [
    "train1['total_time_spent']=train1['total_time_spent'].astype('timedelta64[ns]')"
   ]
  },
  {
   "cell_type": "markdown",
   "metadata": {},
   "source": [
    "# Splitting product items"
   ]
  },
  {
   "cell_type": "code",
   "execution_count": 473,
   "metadata": {},
   "outputs": [],
   "source": [
    "from collections import Counter\n",
    "def extract_product(str):\n",
    "    if \";\"  in str:\n",
    "        prd_lst = str.split(\";\")\n",
    "        count_item = len(prd_lst)\n",
    "        first_lv1 = prd_lst[0].split(\"/\")[0]\n",
    "        first_lv2 = prd_lst[0].split(\"/\")[1]\n",
    "        lv1_lst =[]\n",
    "        lv2_lst =[]\n",
    "        for item in prd_lst:\n",
    "            lv1_lst.append(item.split(\"/\")[0])\n",
    "            lv2_lst.append(item.split(\"/\")[1])\n",
    "        unique_lv1 = len(set(lv1_lst))\n",
    "        unique_lv2 = len(set(lv2_lst))\n",
    "        most_freq_lv1 =  max(lv1_lst, key=Counter(lv1_lst).get)        \n",
    "    else:\n",
    "        lv_lst = str.split(\"/\")\n",
    "        first_lv1 = lv_lst[0]\n",
    "        first_lv2 = lv_lst[1]\n",
    "        count_item = 1\n",
    "        unique_lv1 = 1\n",
    "        unique_lv2 = 1\n",
    "        most_freq_lv1 = first_lv1\n",
    "    return (count_item,first_lv1,first_lv2,unique_lv1,unique_lv2,most_freq_lv1)    \n",
    "\n",
    "#Feature Extraction :\n",
    "new_col = ('NumProduct','FirstA','FirstB','UniqueA','UniqueB','MostA')      \n",
    "new_col_lst = train1['ProductList'].apply(lambda x: extract_product(x))    \n",
    "new_col_df = pd.DataFrame(new_col_lst.tolist(),columns =new_col)\n"
   ]
  },
  {
   "cell_type": "markdown",
   "metadata": {},
   "source": [
    "# Adding these features to the dataframe"
   ]
  },
  {
   "cell_type": "code",
   "execution_count": 474,
   "metadata": {},
   "outputs": [],
   "source": [
    "train1 = pd.concat([train1, new_col_df], axis=1)"
   ]
  },
  {
   "cell_type": "markdown",
   "metadata": {},
   "source": [
    "# Extracting day of week and hour"
   ]
  },
  {
   "cell_type": "code",
   "execution_count": 475,
   "metadata": {},
   "outputs": [],
   "source": [
    "train1['weekday'] = train1['startTime'].dt.dayofweek\n",
    "train1['hour_24h'] = train1['startTime'].dt.hour"
   ]
  },
  {
   "cell_type": "code",
   "execution_count": 476,
   "metadata": {},
   "outputs": [],
   "source": [
    "# converting total time in seconds\n",
    "train1['total_time_spent']=train1['total_time_spent'].dt.total_seconds()"
   ]
  },
  {
   "cell_type": "code",
   "execution_count": 477,
   "metadata": {},
   "outputs": [
    {
     "data": {
      "text/plain": [
       "0     60.0\n",
       "1    360.0\n",
       "2      0.0\n",
       "3    180.0\n",
       "4    120.0\n",
       "Name: total_time_spent, dtype: float64"
      ]
     },
     "execution_count": 477,
     "metadata": {},
     "output_type": "execute_result"
    }
   ],
   "source": [
    "train1.total_time_spent.head()"
   ]
  },
  {
   "cell_type": "code",
   "execution_count": 478,
   "metadata": {},
   "outputs": [
    {
     "data": {
      "text/plain": [
       "session_id          0\n",
       "startTime           0\n",
       "endTime             0\n",
       "ProductList         0\n",
       "gender              0\n",
       "total_time_spent    0\n",
       "NumProduct          0\n",
       "FirstA              0\n",
       "FirstB              0\n",
       "UniqueA             0\n",
       "UniqueB             0\n",
       "MostA               0\n",
       "weekday             0\n",
       "hour_24h            0\n",
       "dtype: int64"
      ]
     },
     "execution_count": 478,
     "metadata": {},
     "output_type": "execute_result"
    }
   ],
   "source": [
    "train1.isna().sum()"
   ]
  },
  {
   "cell_type": "code",
   "execution_count": 479,
   "metadata": {
    "scrolled": true
   },
   "outputs": [
    {
     "data": {
      "text/plain": [
       "array(['A00002/B00003/C00006/D28435/;A00002/B00003/C00006/D02554/;A00002/B00003/C00006/D28436/;A00002/B00003/C00006/D28437/',\n",
       "       'A00001/B00009/C00031/D29404/;A00001/B00009/C00031/D02617/;A00001/B00009/C00031/D29407/;A00001/B00009/C00031/D29410/;A00001/B00009/C00031/D29411/;A00001/B00009/C00031/D25444/;A00001/B00009/C00031/D29418/',\n",
       "       'A00002/B00001/C00020/D16944/', ...,\n",
       "       'A00006/B00030/C00334/D11660/',\n",
       "       'A00003/B00012/C00131/D09453/;A00003/B00012/C00073/D09454/',\n",
       "       'A00002/B00001/C00010/D02309/;A00002/B00002/C00002/D32450/;A00002/B00001/C00059/D21254/;A00003/B00004/C00089/D18619/'],\n",
       "      dtype=object)"
      ]
     },
     "execution_count": 479,
     "metadata": {},
     "output_type": "execute_result"
    }
   ],
   "source": [
    "train1.ProductList.unique()"
   ]
  },
  {
   "cell_type": "code",
   "execution_count": 480,
   "metadata": {},
   "outputs": [],
   "source": [
    "test=pd.read_csv('test_Yix80N0.csv')"
   ]
  },
  {
   "cell_type": "code",
   "execution_count": 481,
   "metadata": {},
   "outputs": [
    {
     "data": {
      "text/plain": [
       "session_id     0\n",
       "startTime      0\n",
       "endTime        0\n",
       "ProductList    0\n",
       "dtype: int64"
      ]
     },
     "execution_count": 481,
     "metadata": {},
     "output_type": "execute_result"
    }
   ],
   "source": [
    "test.isna().sum()"
   ]
  },
  {
   "cell_type": "code",
   "execution_count": 482,
   "metadata": {},
   "outputs": [],
   "source": [
    "session_id= test['session_id']"
   ]
  },
  {
   "cell_type": "code",
   "execution_count": 483,
   "metadata": {
    "scrolled": true
   },
   "outputs": [
    {
     "data": {
      "text/html": [
       "<div>\n",
       "<style scoped>\n",
       "    .dataframe tbody tr th:only-of-type {\n",
       "        vertical-align: middle;\n",
       "    }\n",
       "\n",
       "    .dataframe tbody tr th {\n",
       "        vertical-align: top;\n",
       "    }\n",
       "\n",
       "    .dataframe thead th {\n",
       "        text-align: right;\n",
       "    }\n",
       "</style>\n",
       "<table border=\"1\" class=\"dataframe\">\n",
       "  <thead>\n",
       "    <tr style=\"text-align: right;\">\n",
       "      <th></th>\n",
       "      <th>session_id</th>\n",
       "      <th>startTime</th>\n",
       "      <th>endTime</th>\n",
       "      <th>ProductList</th>\n",
       "    </tr>\n",
       "  </thead>\n",
       "  <tbody>\n",
       "    <tr>\n",
       "      <td>0</td>\n",
       "      <td>u12112</td>\n",
       "      <td>08/12/14 13:36</td>\n",
       "      <td>08/12/14 13:36</td>\n",
       "      <td>A00002/B00003/C00006/D19956/</td>\n",
       "    </tr>\n",
       "    <tr>\n",
       "      <td>1</td>\n",
       "      <td>u19725</td>\n",
       "      <td>19/12/14 13:52</td>\n",
       "      <td>19/12/14 13:52</td>\n",
       "      <td>A00002/B00005/C00067/D02026/</td>\n",
       "    </tr>\n",
       "    <tr>\n",
       "      <td>2</td>\n",
       "      <td>u11795</td>\n",
       "      <td>01/12/14 10:44</td>\n",
       "      <td>01/12/14 10:44</td>\n",
       "      <td>A00002/B00002/C00004/D12538/</td>\n",
       "    </tr>\n",
       "    <tr>\n",
       "      <td>3</td>\n",
       "      <td>u22639</td>\n",
       "      <td>08/12/14 20:19</td>\n",
       "      <td>08/12/14 20:22</td>\n",
       "      <td>A00002/B00003/C00079/D22781/;A00002/B00003/C00...</td>\n",
       "    </tr>\n",
       "    <tr>\n",
       "      <td>4</td>\n",
       "      <td>u18034</td>\n",
       "      <td>15/12/14 19:33</td>\n",
       "      <td>15/12/14 19:33</td>\n",
       "      <td>A00002/B00001/C00010/D23419/</td>\n",
       "    </tr>\n",
       "  </tbody>\n",
       "</table>\n",
       "</div>"
      ],
      "text/plain": [
       "  session_id       startTime         endTime  \\\n",
       "0     u12112  08/12/14 13:36  08/12/14 13:36   \n",
       "1     u19725  19/12/14 13:52  19/12/14 13:52   \n",
       "2     u11795  01/12/14 10:44  01/12/14 10:44   \n",
       "3     u22639  08/12/14 20:19  08/12/14 20:22   \n",
       "4     u18034  15/12/14 19:33  15/12/14 19:33   \n",
       "\n",
       "                                         ProductList  \n",
       "0                       A00002/B00003/C00006/D19956/  \n",
       "1                       A00002/B00005/C00067/D02026/  \n",
       "2                       A00002/B00002/C00004/D12538/  \n",
       "3  A00002/B00003/C00079/D22781/;A00002/B00003/C00...  \n",
       "4                       A00002/B00001/C00010/D23419/  "
      ]
     },
     "execution_count": 483,
     "metadata": {},
     "output_type": "execute_result"
    }
   ],
   "source": [
    "test.head()"
   ]
  },
  {
   "cell_type": "markdown",
   "metadata": {},
   "source": [
    "# Data Preprocessing for Test Data"
   ]
  },
  {
   "cell_type": "code",
   "execution_count": 484,
   "metadata": {},
   "outputs": [],
   "source": [
    "test['startTime']=test['startTime'].astype('datetime64[ns]')\n",
    "test['endTime']=test['endTime'].astype('datetime64[ns]')\n",
    "test['total_time_spent']=test['endTime']-test['startTime']\n",
    "test['total_time_spent']=test['total_time_spent'].dt.total_seconds()"
   ]
  },
  {
   "cell_type": "code",
   "execution_count": 485,
   "metadata": {},
   "outputs": [],
   "source": [
    "test['weekday'] = test['startTime'].dt.dayofweek\n",
    "test['hour_24h'] = test['startTime'].dt.hour"
   ]
  },
  {
   "cell_type": "code",
   "execution_count": 486,
   "metadata": {},
   "outputs": [],
   "source": [
    "new_col = ('NumProduct','FirstA','FirstB','UniqueA','UniqueB','MostA')      \n",
    "new_col_lst = test['ProductList'].apply(lambda x: extract_product(x))    \n",
    "new_col_df = pd.DataFrame(new_col_lst.tolist(),columns =new_col)"
   ]
  },
  {
   "cell_type": "code",
   "execution_count": 487,
   "metadata": {},
   "outputs": [],
   "source": [
    "test = pd.concat([test, new_col_df], axis=1)"
   ]
  },
  {
   "cell_type": "code",
   "execution_count": 488,
   "metadata": {
    "scrolled": false
   },
   "outputs": [
    {
     "data": {
      "text/html": [
       "<div>\n",
       "<style scoped>\n",
       "    .dataframe tbody tr th:only-of-type {\n",
       "        vertical-align: middle;\n",
       "    }\n",
       "\n",
       "    .dataframe tbody tr th {\n",
       "        vertical-align: top;\n",
       "    }\n",
       "\n",
       "    .dataframe thead th {\n",
       "        text-align: right;\n",
       "    }\n",
       "</style>\n",
       "<table border=\"1\" class=\"dataframe\">\n",
       "  <thead>\n",
       "    <tr style=\"text-align: right;\">\n",
       "      <th></th>\n",
       "      <th>session_id</th>\n",
       "      <th>startTime</th>\n",
       "      <th>endTime</th>\n",
       "      <th>ProductList</th>\n",
       "      <th>total_time_spent</th>\n",
       "      <th>weekday</th>\n",
       "      <th>hour_24h</th>\n",
       "      <th>NumProduct</th>\n",
       "      <th>FirstA</th>\n",
       "      <th>FirstB</th>\n",
       "      <th>UniqueA</th>\n",
       "      <th>UniqueB</th>\n",
       "      <th>MostA</th>\n",
       "    </tr>\n",
       "  </thead>\n",
       "  <tbody>\n",
       "    <tr>\n",
       "      <td>0</td>\n",
       "      <td>u12112</td>\n",
       "      <td>2014-08-12 13:36:00</td>\n",
       "      <td>2014-08-12 13:36:00</td>\n",
       "      <td>A00002/B00003/C00006/D19956/</td>\n",
       "      <td>0.0</td>\n",
       "      <td>1</td>\n",
       "      <td>13</td>\n",
       "      <td>1</td>\n",
       "      <td>A00002</td>\n",
       "      <td>B00003</td>\n",
       "      <td>1</td>\n",
       "      <td>1</td>\n",
       "      <td>A00002</td>\n",
       "    </tr>\n",
       "    <tr>\n",
       "      <td>1</td>\n",
       "      <td>u19725</td>\n",
       "      <td>2014-12-19 13:52:00</td>\n",
       "      <td>2014-12-19 13:52:00</td>\n",
       "      <td>A00002/B00005/C00067/D02026/</td>\n",
       "      <td>0.0</td>\n",
       "      <td>4</td>\n",
       "      <td>13</td>\n",
       "      <td>1</td>\n",
       "      <td>A00002</td>\n",
       "      <td>B00005</td>\n",
       "      <td>1</td>\n",
       "      <td>1</td>\n",
       "      <td>A00002</td>\n",
       "    </tr>\n",
       "    <tr>\n",
       "      <td>2</td>\n",
       "      <td>u11795</td>\n",
       "      <td>2014-01-12 10:44:00</td>\n",
       "      <td>2014-01-12 10:44:00</td>\n",
       "      <td>A00002/B00002/C00004/D12538/</td>\n",
       "      <td>0.0</td>\n",
       "      <td>6</td>\n",
       "      <td>10</td>\n",
       "      <td>1</td>\n",
       "      <td>A00002</td>\n",
       "      <td>B00002</td>\n",
       "      <td>1</td>\n",
       "      <td>1</td>\n",
       "      <td>A00002</td>\n",
       "    </tr>\n",
       "    <tr>\n",
       "      <td>3</td>\n",
       "      <td>u22639</td>\n",
       "      <td>2014-08-12 20:19:00</td>\n",
       "      <td>2014-08-12 20:22:00</td>\n",
       "      <td>A00002/B00003/C00079/D22781/;A00002/B00003/C00...</td>\n",
       "      <td>180.0</td>\n",
       "      <td>1</td>\n",
       "      <td>20</td>\n",
       "      <td>4</td>\n",
       "      <td>A00002</td>\n",
       "      <td>B00003</td>\n",
       "      <td>1</td>\n",
       "      <td>1</td>\n",
       "      <td>A00002</td>\n",
       "    </tr>\n",
       "    <tr>\n",
       "      <td>4</td>\n",
       "      <td>u18034</td>\n",
       "      <td>2014-12-15 19:33:00</td>\n",
       "      <td>2014-12-15 19:33:00</td>\n",
       "      <td>A00002/B00001/C00010/D23419/</td>\n",
       "      <td>0.0</td>\n",
       "      <td>0</td>\n",
       "      <td>19</td>\n",
       "      <td>1</td>\n",
       "      <td>A00002</td>\n",
       "      <td>B00001</td>\n",
       "      <td>1</td>\n",
       "      <td>1</td>\n",
       "      <td>A00002</td>\n",
       "    </tr>\n",
       "  </tbody>\n",
       "</table>\n",
       "</div>"
      ],
      "text/plain": [
       "  session_id           startTime             endTime  \\\n",
       "0     u12112 2014-08-12 13:36:00 2014-08-12 13:36:00   \n",
       "1     u19725 2014-12-19 13:52:00 2014-12-19 13:52:00   \n",
       "2     u11795 2014-01-12 10:44:00 2014-01-12 10:44:00   \n",
       "3     u22639 2014-08-12 20:19:00 2014-08-12 20:22:00   \n",
       "4     u18034 2014-12-15 19:33:00 2014-12-15 19:33:00   \n",
       "\n",
       "                                         ProductList  total_time_spent  \\\n",
       "0                       A00002/B00003/C00006/D19956/               0.0   \n",
       "1                       A00002/B00005/C00067/D02026/               0.0   \n",
       "2                       A00002/B00002/C00004/D12538/               0.0   \n",
       "3  A00002/B00003/C00079/D22781/;A00002/B00003/C00...             180.0   \n",
       "4                       A00002/B00001/C00010/D23419/               0.0   \n",
       "\n",
       "   weekday  hour_24h  NumProduct  FirstA  FirstB  UniqueA  UniqueB   MostA  \n",
       "0        1        13           1  A00002  B00003        1        1  A00002  \n",
       "1        4        13           1  A00002  B00005        1        1  A00002  \n",
       "2        6        10           1  A00002  B00002        1        1  A00002  \n",
       "3        1        20           4  A00002  B00003        1        1  A00002  \n",
       "4        0        19           1  A00002  B00001        1        1  A00002  "
      ]
     },
     "execution_count": 488,
     "metadata": {},
     "output_type": "execute_result"
    }
   ],
   "source": [
    "test.head()"
   ]
  },
  {
   "cell_type": "code",
   "execution_count": 489,
   "metadata": {},
   "outputs": [],
   "source": [
    "test.drop(['startTime','endTime','session_id','ProductList'],axis=1,inplace=True)"
   ]
  },
  {
   "cell_type": "code",
   "execution_count": 490,
   "metadata": {},
   "outputs": [
    {
     "data": {
      "text/html": [
       "<div>\n",
       "<style scoped>\n",
       "    .dataframe tbody tr th:only-of-type {\n",
       "        vertical-align: middle;\n",
       "    }\n",
       "\n",
       "    .dataframe tbody tr th {\n",
       "        vertical-align: top;\n",
       "    }\n",
       "\n",
       "    .dataframe thead th {\n",
       "        text-align: right;\n",
       "    }\n",
       "</style>\n",
       "<table border=\"1\" class=\"dataframe\">\n",
       "  <thead>\n",
       "    <tr style=\"text-align: right;\">\n",
       "      <th></th>\n",
       "      <th>total_time_spent</th>\n",
       "      <th>weekday</th>\n",
       "      <th>hour_24h</th>\n",
       "      <th>NumProduct</th>\n",
       "      <th>FirstA</th>\n",
       "      <th>FirstB</th>\n",
       "      <th>UniqueA</th>\n",
       "      <th>UniqueB</th>\n",
       "      <th>MostA</th>\n",
       "    </tr>\n",
       "  </thead>\n",
       "  <tbody>\n",
       "    <tr>\n",
       "      <td>0</td>\n",
       "      <td>0.0</td>\n",
       "      <td>1</td>\n",
       "      <td>13</td>\n",
       "      <td>1</td>\n",
       "      <td>A00002</td>\n",
       "      <td>B00003</td>\n",
       "      <td>1</td>\n",
       "      <td>1</td>\n",
       "      <td>A00002</td>\n",
       "    </tr>\n",
       "    <tr>\n",
       "      <td>1</td>\n",
       "      <td>0.0</td>\n",
       "      <td>4</td>\n",
       "      <td>13</td>\n",
       "      <td>1</td>\n",
       "      <td>A00002</td>\n",
       "      <td>B00005</td>\n",
       "      <td>1</td>\n",
       "      <td>1</td>\n",
       "      <td>A00002</td>\n",
       "    </tr>\n",
       "    <tr>\n",
       "      <td>2</td>\n",
       "      <td>0.0</td>\n",
       "      <td>6</td>\n",
       "      <td>10</td>\n",
       "      <td>1</td>\n",
       "      <td>A00002</td>\n",
       "      <td>B00002</td>\n",
       "      <td>1</td>\n",
       "      <td>1</td>\n",
       "      <td>A00002</td>\n",
       "    </tr>\n",
       "    <tr>\n",
       "      <td>3</td>\n",
       "      <td>180.0</td>\n",
       "      <td>1</td>\n",
       "      <td>20</td>\n",
       "      <td>4</td>\n",
       "      <td>A00002</td>\n",
       "      <td>B00003</td>\n",
       "      <td>1</td>\n",
       "      <td>1</td>\n",
       "      <td>A00002</td>\n",
       "    </tr>\n",
       "    <tr>\n",
       "      <td>4</td>\n",
       "      <td>0.0</td>\n",
       "      <td>0</td>\n",
       "      <td>19</td>\n",
       "      <td>1</td>\n",
       "      <td>A00002</td>\n",
       "      <td>B00001</td>\n",
       "      <td>1</td>\n",
       "      <td>1</td>\n",
       "      <td>A00002</td>\n",
       "    </tr>\n",
       "  </tbody>\n",
       "</table>\n",
       "</div>"
      ],
      "text/plain": [
       "   total_time_spent  weekday  hour_24h  NumProduct  FirstA  FirstB  UniqueA  \\\n",
       "0               0.0        1        13           1  A00002  B00003        1   \n",
       "1               0.0        4        13           1  A00002  B00005        1   \n",
       "2               0.0        6        10           1  A00002  B00002        1   \n",
       "3             180.0        1        20           4  A00002  B00003        1   \n",
       "4               0.0        0        19           1  A00002  B00001        1   \n",
       "\n",
       "   UniqueB   MostA  \n",
       "0        1  A00002  \n",
       "1        1  A00002  \n",
       "2        1  A00002  \n",
       "3        1  A00002  \n",
       "4        1  A00002  "
      ]
     },
     "execution_count": 490,
     "metadata": {},
     "output_type": "execute_result"
    }
   ],
   "source": [
    "test.head()"
   ]
  },
  {
   "cell_type": "code",
   "execution_count": 491,
   "metadata": {},
   "outputs": [
    {
     "data": {
      "text/html": [
       "<div>\n",
       "<style scoped>\n",
       "    .dataframe tbody tr th:only-of-type {\n",
       "        vertical-align: middle;\n",
       "    }\n",
       "\n",
       "    .dataframe tbody tr th {\n",
       "        vertical-align: top;\n",
       "    }\n",
       "\n",
       "    .dataframe thead th {\n",
       "        text-align: right;\n",
       "    }\n",
       "</style>\n",
       "<table border=\"1\" class=\"dataframe\">\n",
       "  <thead>\n",
       "    <tr style=\"text-align: right;\">\n",
       "      <th></th>\n",
       "      <th>total_time_spent</th>\n",
       "      <th>weekday</th>\n",
       "      <th>hour_24h</th>\n",
       "      <th>NumProduct</th>\n",
       "      <th>FirstA</th>\n",
       "      <th>FirstB</th>\n",
       "      <th>UniqueA</th>\n",
       "      <th>UniqueB</th>\n",
       "      <th>MostA</th>\n",
       "    </tr>\n",
       "  </thead>\n",
       "  <tbody>\n",
       "    <tr>\n",
       "      <td>0</td>\n",
       "      <td>0.0</td>\n",
       "      <td>1</td>\n",
       "      <td>13</td>\n",
       "      <td>1</td>\n",
       "      <td>A00002</td>\n",
       "      <td>B00003</td>\n",
       "      <td>1</td>\n",
       "      <td>1</td>\n",
       "      <td>A00002</td>\n",
       "    </tr>\n",
       "    <tr>\n",
       "      <td>1</td>\n",
       "      <td>0.0</td>\n",
       "      <td>4</td>\n",
       "      <td>13</td>\n",
       "      <td>1</td>\n",
       "      <td>A00002</td>\n",
       "      <td>B00005</td>\n",
       "      <td>1</td>\n",
       "      <td>1</td>\n",
       "      <td>A00002</td>\n",
       "    </tr>\n",
       "    <tr>\n",
       "      <td>2</td>\n",
       "      <td>0.0</td>\n",
       "      <td>6</td>\n",
       "      <td>10</td>\n",
       "      <td>1</td>\n",
       "      <td>A00002</td>\n",
       "      <td>B00002</td>\n",
       "      <td>1</td>\n",
       "      <td>1</td>\n",
       "      <td>A00002</td>\n",
       "    </tr>\n",
       "    <tr>\n",
       "      <td>3</td>\n",
       "      <td>180.0</td>\n",
       "      <td>1</td>\n",
       "      <td>20</td>\n",
       "      <td>4</td>\n",
       "      <td>A00002</td>\n",
       "      <td>B00003</td>\n",
       "      <td>1</td>\n",
       "      <td>1</td>\n",
       "      <td>A00002</td>\n",
       "    </tr>\n",
       "    <tr>\n",
       "      <td>4</td>\n",
       "      <td>0.0</td>\n",
       "      <td>0</td>\n",
       "      <td>19</td>\n",
       "      <td>1</td>\n",
       "      <td>A00002</td>\n",
       "      <td>B00001</td>\n",
       "      <td>1</td>\n",
       "      <td>1</td>\n",
       "      <td>A00002</td>\n",
       "    </tr>\n",
       "  </tbody>\n",
       "</table>\n",
       "</div>"
      ],
      "text/plain": [
       "   total_time_spent  weekday  hour_24h  NumProduct  FirstA  FirstB  UniqueA  \\\n",
       "0               0.0        1        13           1  A00002  B00003        1   \n",
       "1               0.0        4        13           1  A00002  B00005        1   \n",
       "2               0.0        6        10           1  A00002  B00002        1   \n",
       "3             180.0        1        20           4  A00002  B00003        1   \n",
       "4               0.0        0        19           1  A00002  B00001        1   \n",
       "\n",
       "   UniqueB   MostA  \n",
       "0        1  A00002  \n",
       "1        1  A00002  \n",
       "2        1  A00002  \n",
       "3        1  A00002  \n",
       "4        1  A00002  "
      ]
     },
     "execution_count": 491,
     "metadata": {},
     "output_type": "execute_result"
    }
   ],
   "source": [
    "test.head()"
   ]
  },
  {
   "cell_type": "code",
   "execution_count": 492,
   "metadata": {
    "scrolled": true
   },
   "outputs": [
    {
     "name": "stdout",
     "output_type": "stream",
     "text": [
      "total_time_spent\n",
      "weekday\n",
      "hour_24h\n",
      "NumProduct\n",
      "FirstA\n",
      "FirstB\n",
      "UniqueA\n",
      "UniqueB\n",
      "MostA\n"
     ]
    }
   ],
   "source": [
    "for x in test.columns:\n",
    "    print(x)"
   ]
  },
  {
   "cell_type": "code",
   "execution_count": 493,
   "metadata": {},
   "outputs": [],
   "source": [
    "X=pd.DataFrame()"
   ]
  },
  {
   "cell_type": "code",
   "execution_count": 494,
   "metadata": {},
   "outputs": [],
   "source": [
    "y=train1.gender.map({'female':0,'male':1})"
   ]
  },
  {
   "cell_type": "code",
   "execution_count": 495,
   "metadata": {},
   "outputs": [],
   "source": [
    "X=train1.drop(['session_id','startTime','endTime','gender','ProductList'],axis=1)"
   ]
  },
  {
   "cell_type": "code",
   "execution_count": 496,
   "metadata": {},
   "outputs": [],
   "source": [
    "X=pd.get_dummies(X)"
   ]
  },
  {
   "cell_type": "code",
   "execution_count": 497,
   "metadata": {},
   "outputs": [],
   "source": [
    "from sklearn.model_selection import train_test_split"
   ]
  },
  {
   "cell_type": "code",
   "execution_count": 498,
   "metadata": {},
   "outputs": [],
   "source": [
    "x_train,x_cv,y_train,y_cv=train_test_split(X,y,test_size=0.33,random_state=0)"
   ]
  },
  {
   "cell_type": "code",
   "execution_count": 499,
   "metadata": {},
   "outputs": [],
   "source": [
    "from sklearn.linear_model import LogisticRegression\n",
    "from sklearn.ensemble import RandomForestClassifier\n",
    "from sklearn.metrics import accuracy_score"
   ]
  },
  {
   "cell_type": "markdown",
   "metadata": {},
   "source": [
    "# Avoid Oversampling "
   ]
  },
  {
   "cell_type": "code",
   "execution_count": 500,
   "metadata": {},
   "outputs": [],
   "source": [
    "from sklearn.decomposition import PCA\n",
    "\n",
    "pca = PCA()\n",
    "x_train = pca.fit_transform(x_train)\n",
    "x_cv = pca.transform(x_cv)"
   ]
  },
  {
   "cell_type": "code",
   "execution_count": 501,
   "metadata": {},
   "outputs": [],
   "source": [
    "explained_variance = pca.explained_variance_ratio_"
   ]
  },
  {
   "cell_type": "code",
   "execution_count": 502,
   "metadata": {},
   "outputs": [
    {
     "name": "stdout",
     "output_type": "stream",
     "text": [
      "[1.00000000e+00 2.26214619e-11 4.90345036e-12 3.43743755e-12\n",
      " 5.97234260e-13 2.88141519e-13 1.61318272e-13 1.48675703e-13\n",
      " 1.08160038e-13 7.53040296e-14 6.07127941e-14 5.66961940e-14\n",
      " 3.70986993e-14 3.31479419e-14 3.20349194e-14 2.57057970e-14\n",
      " 2.41652881e-14 2.12639620e-14 2.01600828e-14 1.78033982e-14\n",
      " 1.57176815e-14 1.53413855e-14 1.32369468e-14 1.26346894e-14\n",
      " 9.78000976e-15 9.12501083e-15 8.11698006e-15 6.54134577e-15\n",
      " 6.20936436e-15 5.64348050e-15 5.48881715e-15 5.07968339e-15\n",
      " 4.89799951e-15 4.43627923e-15 4.32853772e-15 4.09817799e-15\n",
      " 3.93020417e-15 2.91646974e-15 2.42857633e-15 2.40178343e-15\n",
      " 2.15222429e-15 2.00308995e-15 1.80991476e-15 1.71174125e-15\n",
      " 1.69429800e-15 1.54103127e-15 1.51183584e-15 1.49111377e-15\n",
      " 1.27606896e-15 1.10353049e-15 1.06906730e-15 9.19011122e-16\n",
      " 9.18358103e-16 9.05379783e-16 8.71054323e-16 7.89831282e-16\n",
      " 7.61398119e-16 7.36213705e-16 7.34964934e-16 6.77434092e-16\n",
      " 6.55704119e-16 6.37183486e-16 5.63241149e-16 5.31475603e-16\n",
      " 5.12756690e-16 4.99015191e-16 4.90596103e-16 4.87007329e-16\n",
      " 4.37291317e-16 4.16804691e-16 3.87589882e-16 3.63483479e-16\n",
      " 3.02553608e-16 2.65834174e-16 2.47948042e-16 1.86327515e-16\n",
      " 1.76476882e-16 1.74600252e-16 1.66282056e-16 1.54995578e-16\n",
      " 1.22663738e-16 1.22663738e-16 1.22644703e-16 1.22605114e-16\n",
      " 1.22481223e-16 1.22300426e-16 9.60589069e-17 6.69984017e-17\n",
      " 5.98844249e-17 5.49114432e-17 3.03778886e-17 9.98402083e-33\n",
      " 9.98402083e-33 9.98402083e-33 9.98402083e-33 9.98402083e-33\n",
      " 9.98402083e-33 9.98402083e-33 9.98402083e-33 9.98402083e-33\n",
      " 9.98402083e-33 9.98402083e-33 9.98402083e-33 9.98402083e-33\n",
      " 9.98402083e-33 9.98402083e-33 9.98402083e-33 9.98402083e-33\n",
      " 9.98402081e-33 1.86453155e-45]\n"
     ]
    }
   ],
   "source": [
    "print(explained_variance)"
   ]
  },
  {
   "cell_type": "code",
   "execution_count": 503,
   "metadata": {},
   "outputs": [],
   "source": [
    "pca = PCA(n_components=1)\n",
    "x_train = pca.fit_transform(x_train)\n",
    "x_cv = pca.transform(x_cv)"
   ]
  },
  {
   "cell_type": "markdown",
   "metadata": {},
   "source": [
    "# ML Model"
   ]
  },
  {
   "cell_type": "markdown",
   "metadata": {},
   "source": [
    "# RandomForest "
   ]
  },
  {
   "cell_type": "code",
   "execution_count": 527,
   "metadata": {},
   "outputs": [
    {
     "name": "stderr",
     "output_type": "stream",
     "text": [
      "C:\\Users\\HP\\Anaconda3\\lib\\site-packages\\sklearn\\ensemble\\forest.py:245: FutureWarning: The default value of n_estimators will change from 10 in version 0.20 to 100 in 0.22.\n",
      "  \"10 in version 0.20 to 100 in 0.22.\", FutureWarning)\n"
     ]
    }
   ],
   "source": [
    "clf = RandomForestClassifier(class_weight = {1:.1, 0:.35})\n",
    "clf.fit(x_train,y_train)\n",
    "clf_pred1=clf.predict(x_cv)"
   ]
  },
  {
   "cell_type": "code",
   "execution_count": 531,
   "metadata": {},
   "outputs": [
    {
     "data": {
      "image/png": "[encoded data removed]",
      "text/plain": [
       "<Figure size 504x504 with 1 Axes>"
      ]
     },
     "metadata": {
      "needs_background": "light"
     },
     "output_type": "display_data"
    }
   ],
   "source": [
    "#Learning Curve\n",
    "from sklearn.model_selection import learning_curve\n",
    "train_sizes, train_scores, test_scores = learning_curve(clf,\n",
    "                                               x_train, y_train, cv=10, scoring='accuracy', n_jobs=-1,\n",
    "                                               train_sizes=np.linspace(0.01, 1.0, 50))\n",
    "train_mean = np.mean(train_scores, axis=1)\n",
    "train_std = np.std(train_scores, axis=1)\n",
    "test_mean = np.mean(test_scores, axis=1)\n",
    "test_std = np.std(test_scores, axis=1)\n",
    "plt.subplots(1, figsize=(7,7))\n",
    "plt.plot(train_sizes, train_mean, '--', color=\"#111111\",  label=\"Training score\")\n",
    "plt.plot(train_sizes, test_mean, color=\"#111111\", label=\"Cross-validation score\")\n",
    "plt.fill_between(train_sizes, train_mean - train_std, train_mean + train_std, color=\"#DDDDDD\")\n",
    "plt.fill_between(train_sizes, test_mean - test_std, test_mean + test_std, color=\"#DDDDDD\")\n",
    "plt.title(\"Learning Curve\")\n",
    "plt.xlabel(\"Training Set Size\"), plt.ylabel(\"Accuracy Score\"), plt.legend(loc=\"best\")\n",
    "plt.tight_layout(); plt.show()"
   ]
  },
  {
   "cell_type": "code",
   "execution_count": 528,
   "metadata": {},
   "outputs": [
    {
     "name": "stdout",
     "output_type": "stream",
     "text": [
      "accuracy score 0.778066378066378\n"
     ]
    }
   ],
   "source": [
    "print(\"accuracy score\" + \" %s\" % accuracy_score(y_cv,clf_pred1 ))"
   ]
  },
  {
   "cell_type": "markdown",
   "metadata": {},
   "source": [
    "# Logistic Regression"
   ]
  },
  {
   "cell_type": "code",
   "execution_count": 525,
   "metadata": {},
   "outputs": [
    {
     "name": "stderr",
     "output_type": "stream",
     "text": [
      "C:\\Users\\HP\\Anaconda3\\lib\\site-packages\\sklearn\\linear_model\\logistic.py:432: FutureWarning: Default solver will be changed to 'lbfgs' in 0.22. Specify a solver to silence this warning.\n",
      "  FutureWarning)\n"
     ]
    }
   ],
   "source": [
    "model=LogisticRegression()\n",
    "model.fit(x_train,y_train)\n",
    "lr_pred=model.predict(x_cv)"
   ]
  },
  {
   "cell_type": "code",
   "execution_count": 532,
   "metadata": {},
   "outputs": [
    {
     "data": {
      "image/png": "[encoded data removed]",
      "text/plain": [
       "<Figure size 504x504 with 1 Axes>"
      ]
     },
     "metadata": {
      "needs_background": "light"
     },
     "output_type": "display_data"
    }
   ],
   "source": [
    "#Learning Curve\n",
    "from sklearn.model_selection import learning_curve\n",
    "train_sizes, train_scores, test_scores = learning_curve(model,\n",
    "                                               x_train, y_train, cv=10, scoring='accuracy', n_jobs=-1,\n",
    "                                               train_sizes=np.linspace(0.01, 1.0, 50))\n",
    "train_mean = np.mean(train_scores, axis=1)\n",
    "train_std = np.std(train_scores, axis=1)\n",
    "test_mean = np.mean(test_scores, axis=1)\n",
    "test_std = np.std(test_scores, axis=1)\n",
    "plt.subplots(1, figsize=(7,7))\n",
    "plt.plot(train_sizes, train_mean, '--', color=\"#111111\",  label=\"Training score\")\n",
    "plt.plot(train_sizes, test_mean, color=\"#111111\", label=\"Cross-validation score\")\n",
    "plt.fill_between(train_sizes, train_mean - train_std, train_mean + train_std, color=\"#DDDDDD\")\n",
    "plt.fill_between(train_sizes, test_mean - test_std, test_mean + test_std, color=\"#DDDDDD\")\n",
    "plt.title(\"Learning Curve\")\n",
    "plt.xlabel(\"Training Set Size\"), plt.ylabel(\"Accuracy Score\"), plt.legend(loc=\"best\")\n",
    "plt.tight_layout(); plt.show()"
   ]
  },
  {
   "cell_type": "code",
   "execution_count": 526,
   "metadata": {
    "scrolled": true
   },
   "outputs": [
    {
     "name": "stdout",
     "output_type": "stream",
     "text": [
      "accuracy score 0.7815295815295815\n"
     ]
    }
   ],
   "source": [
    "print(\"accuracy score\" + \" %s\" % accuracy_score(y_cv, lr_pred))"
   ]
  },
  {
   "cell_type": "markdown",
   "metadata": {},
   "source": [
    "# KNN Classifier"
   ]
  },
  {
   "cell_type": "code",
   "execution_count": 508,
   "metadata": {},
   "outputs": [],
   "source": [
    "from sklearn.neighbors import KNeighborsClassifier\n",
    "KNN_model=KNeighborsClassifier(n_neighbors=5)"
   ]
  },
  {
   "cell_type": "code",
   "execution_count": 523,
   "metadata": {},
   "outputs": [],
   "source": [
    "KNN_model.fit(x_train,y_train)\n",
    "KNN_pred=KNN_model.predict(x_cv)"
   ]
  },
  {
   "cell_type": "code",
   "execution_count": 533,
   "metadata": {},
   "outputs": [
    {
     "data": {
      "image/png": "[encoded data removed]",
      "text/plain": [
       "<Figure size 504x504 with 1 Axes>"
      ]
     },
     "metadata": {
      "needs_background": "light"
     },
     "output_type": "display_data"
    }
   ],
   "source": [
    "#Learning Curve\n",
    "from sklearn.model_selection import learning_curve\n",
    "train_sizes, train_scores, test_scores = learning_curve(KNN_model,\n",
    "                                               x_train, y_train, cv=10, scoring='accuracy', n_jobs=-1,\n",
    "                                               train_sizes=np.linspace(0.01, 1.0, 50))\n",
    "train_mean = np.mean(train_scores, axis=1)\n",
    "train_std = np.std(train_scores, axis=1)\n",
    "test_mean = np.mean(test_scores, axis=1)\n",
    "test_std = np.std(test_scores, axis=1)\n",
    "plt.subplots(1, figsize=(7,7))\n",
    "plt.plot(train_sizes, train_mean, '--', color=\"#111111\",  label=\"Training score\")\n",
    "plt.plot(train_sizes, test_mean, color=\"#111111\", label=\"Cross-validation score\")\n",
    "plt.fill_between(train_sizes, train_mean - train_std, train_mean + train_std, color=\"#DDDDDD\")\n",
    "plt.fill_between(train_sizes, test_mean - test_std, test_mean + test_std, color=\"#DDDDDD\")\n",
    "plt.title(\"Learning Curve\")\n",
    "plt.xlabel(\"Training Set Size\"), plt.ylabel(\"Accuracy Score\"), plt.legend(loc=\"best\")\n",
    "plt.tight_layout(); plt.show()"
   ]
  },
  {
   "cell_type": "code",
   "execution_count": 524,
   "metadata": {},
   "outputs": [
    {
     "name": "stdout",
     "output_type": "stream",
     "text": [
      "accuracy score 0.7572871572871573\n"
     ]
    }
   ],
   "source": [
    "print(\"accuracy score\" + \" %s\" % accuracy_score(y_cv,KNN_pred))"
   ]
  },
  {
   "cell_type": "markdown",
   "metadata": {},
   "source": [
    "# DecisionTreeClassifier"
   ]
  },
  {
   "cell_type": "code",
   "execution_count": 519,
   "metadata": {},
   "outputs": [],
   "source": [
    "from sklearn.tree import DecisionTreeClassifier\n",
    "clf = DecisionTreeClassifier().fit(x_train, y_train)\n",
    "clf_pred2=clf.predict(x_cv)"
   ]
  },
  {
   "cell_type": "code",
   "execution_count": 534,
   "metadata": {},
   "outputs": [
    {
     "data": {
      "image/png": "[encoded data removed]",
      "text/plain": [
       "<Figure size 504x504 with 1 Axes>"
      ]
     },
     "metadata": {
      "needs_background": "light"
     },
     "output_type": "display_data"
    }
   ],
   "source": [
    "#Learning Curve\n",
    "from sklearn.model_selection import learning_curve\n",
    "train_sizes, train_scores, test_scores = learning_curve(clf,\n",
    "                                               x_train, y_train, cv=10, scoring='accuracy', n_jobs=-1,\n",
    "                                               train_sizes=np.linspace(0.01, 1.0, 50))\n",
    "train_mean = np.mean(train_scores, axis=1)\n",
    "train_std = np.std(train_scores, axis=1)\n",
    "test_mean = np.mean(test_scores, axis=1)\n",
    "test_std = np.std(test_scores, axis=1)\n",
    "plt.subplots(1, figsize=(7,7))\n",
    "plt.plot(train_sizes, train_mean, '--', color=\"#111111\",  label=\"Training score\")\n",
    "plt.plot(train_sizes, test_mean, color=\"#111111\", label=\"Cross-validation score\")\n",
    "plt.fill_between(train_sizes, train_mean - train_std, train_mean + train_std, color=\"#DDDDDD\")\n",
    "plt.fill_between(train_sizes, test_mean - test_std, test_mean + test_std, color=\"#DDDDDD\")\n",
    "plt.title(\"Learning Curve\")\n",
    "plt.xlabel(\"Training Set Size\"), plt.ylabel(\"Accuracy Score\"), plt.legend(loc=\"best\")\n",
    "plt.tight_layout(); plt.show()"
   ]
  },
  {
   "cell_type": "code",
   "execution_count": 520,
   "metadata": {
    "scrolled": true
   },
   "outputs": [
    {
     "name": "stdout",
     "output_type": "stream",
     "text": [
      "accuracy score 0.7795093795093795\n"
     ]
    }
   ],
   "source": [
    "print(\"accuracy score\" + \" %s\" % accuracy_score(y_cv,clf_pred2))"
   ]
  },
  {
   "cell_type": "markdown",
   "metadata": {},
   "source": [
    "# LinearDiscriminant Analysis"
   ]
  },
  {
   "cell_type": "code",
   "execution_count": 521,
   "metadata": {},
   "outputs": [],
   "source": [
    "from sklearn.discriminant_analysis import LinearDiscriminantAnalysis\n",
    "lda = LinearDiscriminantAnalysis()\n",
    "lda.fit(x_train, y_train)\n",
    "lda_pred=lda.predict(x_cv)"
   ]
  },
  {
   "cell_type": "code",
   "execution_count": 535,
   "metadata": {},
   "outputs": [
    {
     "data": {
      "image/png": "[encoded data removed]",
      "text/plain": [
       "<Figure size 504x504 with 1 Axes>"
      ]
     },
     "metadata": {
      "needs_background": "light"
     },
     "output_type": "display_data"
    }
   ],
   "source": [
    "#Learning Curve\n",
    "from sklearn.model_selection import learning_curve\n",
    "train_sizes, train_scores, test_scores = learning_curve(lda,\n",
    "                                               x_train, y_train, cv=10, scoring='accuracy', n_jobs=-1,\n",
    "                                               train_sizes=np.linspace(0.01, 1.0, 50))\n",
    "train_mean = np.mean(train_scores, axis=1)\n",
    "train_std = np.std(train_scores, axis=1)\n",
    "test_mean = np.mean(test_scores, axis=1)\n",
    "test_std = np.std(test_scores, axis=1)\n",
    "plt.subplots(1, figsize=(7,7))\n",
    "plt.plot(train_sizes, train_mean, '--', color=\"#111111\",  label=\"Training score\")\n",
    "plt.plot(train_sizes, test_mean, color=\"#111111\", label=\"Cross-validation score\")\n",
    "plt.fill_between(train_sizes, train_mean - train_std, train_mean + train_std, color=\"#DDDDDD\")\n",
    "plt.fill_between(train_sizes, test_mean - test_std, test_mean + test_std, color=\"#DDDDDD\")\n",
    "plt.title(\"Learning Curve\")\n",
    "plt.xlabel(\"Training Set Size\"), plt.ylabel(\"Accuracy Score\"), plt.legend(loc=\"best\")\n",
    "plt.tight_layout(); plt.show()"
   ]
  },
  {
   "cell_type": "code",
   "execution_count": 522,
   "metadata": {},
   "outputs": [
    {
     "name": "stdout",
     "output_type": "stream",
     "text": [
      "accuracy score 0.7815295815295815\n"
     ]
    }
   ],
   "source": [
    "print(\"accuracy score\" + \" %s\" % accuracy_score(y_cv, lda_pred))"
   ]
  },
  {
   "cell_type": "markdown",
   "metadata": {},
   "source": [
    "# Gaussian Naive Bayes"
   ]
  },
  {
   "cell_type": "code",
   "execution_count": 517,
   "metadata": {},
   "outputs": [
    {
     "name": "stdout",
     "output_type": "stream",
     "text": [
      "accuracy score 0.7786435786435787\n"
     ]
    }
   ],
   "source": [
    "from sklearn.naive_bayes import GaussianNB\n",
    "gnb = GaussianNB()\n",
    "gnb.fit(x_train, y_train)\n",
    "gnb_pred=gnb.predict(x_cv)\n",
    "print(\"accuracy score\" + \" %s\" % accuracy_score(y_cv, gnb_pred))"
   ]
  },
  {
   "cell_type": "code",
   "execution_count": 594,
   "metadata": {},
   "outputs": [
    {
     "data": {
      "image/png": "[encoded data removed]",
      "text/plain": [
       "<Figure size 504x504 with 1 Axes>"
      ]
     },
     "metadata": {
      "needs_background": "light"
     },
     "output_type": "display_data"
    }
   ],
   "source": [
    "#Learning Curve\n",
    "from sklearn.model_selection import learning_curve\n",
    "train_sizes, train_scores, test_scores = learning_curve(gnb,\n",
    "                                               x_train, y_train, cv=10, scoring='accuracy', n_jobs=-1,\n",
    "                                               train_sizes=np.linspace(0.01, 1.0, 50))\n",
    "train_mean = np.mean(train_scores, axis=1)\n",
    "train_std = np.std(train_scores, axis=1)\n",
    "test_mean = np.mean(test_scores, axis=1)\n",
    "test_std = np.std(test_scores, axis=1)\n",
    "plt.subplots(1, figsize=(7,7))\n",
    "plt.plot(train_sizes, train_mean, '--', color=\"#111111\",  label=\"Training score\")\n",
    "plt.plot(train_sizes, test_mean, color=\"#111111\", label=\"Cross-validation score\")\n",
    "plt.fill_between(train_sizes, train_mean - train_std, train_mean + train_std, color=\"#DDDDDD\")\n",
    "plt.fill_between(train_sizes, test_mean - test_std, test_mean + test_std, color=\"#DDDDDD\")\n",
    "plt.title(\"Learning Curve\")\n",
    "plt.xlabel(\"Training Set Size\"), plt.ylabel(\"Accuracy Score\"), plt.legend(loc=\"best\")\n",
    "plt.tight_layout(); plt.show()"
   ]
  },
  {
   "cell_type": "markdown",
   "metadata": {},
   "source": [
    "# Support Vector Machine"
   ]
  },
  {
   "cell_type": "code",
   "execution_count": 518,
   "metadata": {},
   "outputs": [
    {
     "name": "stderr",
     "output_type": "stream",
     "text": [
      "C:\\Users\\HP\\Anaconda3\\lib\\site-packages\\sklearn\\svm\\base.py:193: FutureWarning: The default value of gamma will change from 'auto' to 'scale' in version 0.22 to account better for unscaled features. Set gamma explicitly to 'auto' or 'scale' to avoid this warning.\n",
      "  \"avoid this warning.\", FutureWarning)\n"
     ]
    },
    {
     "name": "stdout",
     "output_type": "stream",
     "text": [
      "accuracy score 0.7821067821067821\n"
     ]
    }
   ],
   "source": [
    "from sklearn.svm import SVC\n",
    "svm = SVC()\n",
    "svm.fit(x_train, y_train)\n",
    "svm_pred=svm.predict(x_cv)\n",
    "print(\"accuracy score\" + \" %s\" % accuracy_score(y_cv, svm_pred))"
   ]
  },
  {
   "cell_type": "code",
   "execution_count": 530,
   "metadata": {
    "scrolled": false
   },
   "outputs": [
    {
     "data": {
      "image/png": "[encoded data removed]",
      "text/plain": [
       "<Figure size 504x504 with 1 Axes>"
      ]
     },
     "metadata": {
      "needs_background": "light"
     },
     "output_type": "display_data"
    }
   ],
   "source": [
    "from sklearn.model_selection import learning_curve\n",
    "train_sizes, train_scores, test_scores = learning_curve(svm,\n",
    "                                               x_train, y_train, cv=10, scoring='accuracy', n_jobs=-1,\n",
    "                                               train_sizes=np.linspace(0.01, 1.0, 50))\n",
    "train_mean = np.mean(train_scores, axis=1)\n",
    "train_std = np.std(train_scores, axis=1)\n",
    "test_mean = np.mean(test_scores, axis=1)\n",
    "test_std = np.std(test_scores, axis=1)\n",
    "plt.subplots(1, figsize=(7,7))\n",
    "plt.plot(train_sizes, train_mean, '--', color=\"#111111\",  label=\"Training score\")\n",
    "plt.plot(train_sizes, test_mean, color=\"#111111\", label=\"Cross-validation score\")\n",
    "plt.fill_between(train_sizes, train_mean - train_std, train_mean + train_std, color=\"#DDDDDD\")\n",
    "plt.fill_between(train_sizes, test_mean - test_std, test_mean + test_std, color=\"#DDDDDD\")\n",
    "plt.title(\"Learning Curve\")\n",
    "plt.xlabel(\"Training Set Size\"), plt.ylabel(\"Accuracy Score\"), plt.legend(loc=\"best\")\n",
    "plt.tight_layout(); plt.show()"
   ]
  },
  {
   "cell_type": "markdown",
   "metadata": {},
   "source": [
    "# Logistic Regression and Gaussian Naive Bayesian classification are best fit model"
   ]
  },
  {
   "cell_type": "markdown",
   "metadata": {},
   "source": [
    "# Prediction on Test Data"
   ]
  },
  {
   "cell_type": "code",
   "execution_count": 536,
   "metadata": {},
   "outputs": [],
   "source": [
    "X=pd.DataFrame()"
   ]
  },
  {
   "cell_type": "code",
   "execution_count": 537,
   "metadata": {},
   "outputs": [],
   "source": [
    "X=train1.copy()"
   ]
  },
  {
   "cell_type": "code",
   "execution_count": 538,
   "metadata": {},
   "outputs": [],
   "source": [
    "X.drop(['gender','session_id','startTime','endTime','ProductList'],axis=1,inplace=True)"
   ]
  },
  {
   "cell_type": "markdown",
   "metadata": {},
   "source": [
    "# Creating Dummy Variables to sync Test and Train Data"
   ]
  },
  {
   "cell_type": "code",
   "execution_count": 539,
   "metadata": {},
   "outputs": [
    {
     "name": "stderr",
     "output_type": "stream",
     "text": [
      "C:\\Users\\HP\\Anaconda3\\lib\\site-packages\\ipykernel_launcher.py:3: FutureWarning: Sorting because non-concatenation axis is not aligned. A future version\n",
      "of pandas will change to not sort by default.\n",
      "\n",
      "To accept the future behavior, pass 'sort=False'.\n",
      "\n",
      "To retain the current behavior and silence the warning, pass 'sort=True'.\n",
      "\n",
      "  This is separate from the ipykernel package so we can avoid doing imports until\n"
     ]
    }
   ],
   "source": [
    "train_objs_num = len(X)\n",
    "dataset=pd.DataFrame()\n",
    "dataset = pd.concat(objs=[X, test], axis=0).sort_index()\n",
    "len(dataset)\n",
    "\n",
    "dataset_preprocessed = pd.get_dummies(dataset)\n",
    "len(dataset_preprocessed)\n",
    "train_preprocessed = dataset_preprocessed.iloc[:train_objs_num]\n",
    "test_preprocessed = dataset_preprocessed.iloc[train_objs_num:]"
   ]
  },
  {
   "cell_type": "code",
   "execution_count": 540,
   "metadata": {},
   "outputs": [
    {
     "name": "stdout",
     "output_type": "stream",
     "text": [
      "Index(['NumProduct', 'UniqueA', 'UniqueB', 'hour_24h', 'total_time_spent',\n",
      "       'weekday', 'FirstA_A00001', 'FirstA_A00002', 'FirstA_A00003',\n",
      "       'FirstA_A00004',\n",
      "       ...\n",
      "       'MostA_A00002', 'MostA_A00003', 'MostA_A00004', 'MostA_A00005',\n",
      "       'MostA_A00006', 'MostA_A00007', 'MostA_A00008', 'MostA_A00009',\n",
      "       'MostA_A00010', 'MostA_A00011'],\n",
      "      dtype='object', length=112)\n",
      "Index(['NumProduct', 'UniqueA', 'UniqueB', 'hour_24h', 'total_time_spent',\n",
      "       'weekday', 'FirstA_A00001', 'FirstA_A00002', 'FirstA_A00003',\n",
      "       'FirstA_A00004',\n",
      "       ...\n",
      "       'MostA_A00002', 'MostA_A00003', 'MostA_A00004', 'MostA_A00005',\n",
      "       'MostA_A00006', 'MostA_A00007', 'MostA_A00008', 'MostA_A00009',\n",
      "       'MostA_A00010', 'MostA_A00011'],\n",
      "      dtype='object', length=112)\n"
     ]
    }
   ],
   "source": [
    "print(train_preprocessed.columns)\n",
    "print(test_preprocessed.columns)"
   ]
  },
  {
   "cell_type": "code",
   "execution_count": 541,
   "metadata": {},
   "outputs": [],
   "source": [
    "X_scaled=pd.DataFrame(std.fit_transform(train_preprocessed),columns=train_preprocessed.columns,index=train_preprocessed.index)"
   ]
  },
  {
   "cell_type": "code",
   "execution_count": 456,
   "metadata": {},
   "outputs": [],
   "source": [
    "from sklearn.preprocessing import StandardScaler\n",
    "std=StandardScaler()"
   ]
  },
  {
   "cell_type": "code",
   "execution_count": 542,
   "metadata": {
    "scrolled": false
   },
   "outputs": [
    {
     "data": {
      "text/html": [
       "<div>\n",
       "<style scoped>\n",
       "    .dataframe tbody tr th:only-of-type {\n",
       "        vertical-align: middle;\n",
       "    }\n",
       "\n",
       "    .dataframe tbody tr th {\n",
       "        vertical-align: top;\n",
       "    }\n",
       "\n",
       "    .dataframe thead th {\n",
       "        text-align: right;\n",
       "    }\n",
       "</style>\n",
       "<table border=\"1\" class=\"dataframe\">\n",
       "  <thead>\n",
       "    <tr style=\"text-align: right;\">\n",
       "      <th></th>\n",
       "      <th>NumProduct</th>\n",
       "      <th>UniqueA</th>\n",
       "      <th>UniqueB</th>\n",
       "      <th>hour_24h</th>\n",
       "      <th>total_time_spent</th>\n",
       "      <th>weekday</th>\n",
       "      <th>FirstA_A00001</th>\n",
       "      <th>FirstA_A00002</th>\n",
       "      <th>FirstA_A00003</th>\n",
       "      <th>FirstA_A00004</th>\n",
       "      <th>...</th>\n",
       "      <th>MostA_A00002</th>\n",
       "      <th>MostA_A00003</th>\n",
       "      <th>MostA_A00004</th>\n",
       "      <th>MostA_A00005</th>\n",
       "      <th>MostA_A00006</th>\n",
       "      <th>MostA_A00007</th>\n",
       "      <th>MostA_A00008</th>\n",
       "      <th>MostA_A00009</th>\n",
       "      <th>MostA_A00010</th>\n",
       "      <th>MostA_A00011</th>\n",
       "    </tr>\n",
       "  </thead>\n",
       "  <tbody>\n",
       "    <tr>\n",
       "      <td>0</td>\n",
       "      <td>-0.527056</td>\n",
       "      <td>-0.196346</td>\n",
       "      <td>-0.337515</td>\n",
       "      <td>0.944075</td>\n",
       "      <td>-0.014977</td>\n",
       "      <td>-0.543641</td>\n",
       "      <td>-0.415524</td>\n",
       "      <td>0.750000</td>\n",
       "      <td>-0.431788</td>\n",
       "      <td>-0.1124</td>\n",
       "      <td>...</td>\n",
       "      <td>0.747986</td>\n",
       "      <td>-0.430701</td>\n",
       "      <td>-0.114125</td>\n",
       "      <td>-0.130189</td>\n",
       "      <td>-0.102894</td>\n",
       "      <td>-0.047864</td>\n",
       "      <td>-0.045822</td>\n",
       "      <td>-0.051709</td>\n",
       "      <td>-0.065606</td>\n",
       "      <td>-0.068473</td>\n",
       "    </tr>\n",
       "    <tr>\n",
       "      <td>1</td>\n",
       "      <td>0.749550</td>\n",
       "      <td>-0.196346</td>\n",
       "      <td>1.871901</td>\n",
       "      <td>0.160084</td>\n",
       "      <td>-0.014852</td>\n",
       "      <td>-1.548612</td>\n",
       "      <td>2.406599</td>\n",
       "      <td>-1.333333</td>\n",
       "      <td>-0.431788</td>\n",
       "      <td>-0.1124</td>\n",
       "      <td>...</td>\n",
       "      <td>-1.336923</td>\n",
       "      <td>-0.430701</td>\n",
       "      <td>-0.114125</td>\n",
       "      <td>-0.130189</td>\n",
       "      <td>-0.102894</td>\n",
       "      <td>-0.047864</td>\n",
       "      <td>-0.045822</td>\n",
       "      <td>-0.051709</td>\n",
       "      <td>-0.065606</td>\n",
       "      <td>-0.068473</td>\n",
       "    </tr>\n",
       "    <tr>\n",
       "      <td>2</td>\n",
       "      <td>-0.527056</td>\n",
       "      <td>-0.196346</td>\n",
       "      <td>-0.337515</td>\n",
       "      <td>1.336071</td>\n",
       "      <td>-0.014977</td>\n",
       "      <td>0.461329</td>\n",
       "      <td>-0.415524</td>\n",
       "      <td>-1.333333</td>\n",
       "      <td>2.315953</td>\n",
       "      <td>-0.1124</td>\n",
       "      <td>...</td>\n",
       "      <td>-1.336923</td>\n",
       "      <td>2.321799</td>\n",
       "      <td>-0.114125</td>\n",
       "      <td>-0.130189</td>\n",
       "      <td>-0.102894</td>\n",
       "      <td>-0.047864</td>\n",
       "      <td>-0.045822</td>\n",
       "      <td>-0.051709</td>\n",
       "      <td>-0.065606</td>\n",
       "      <td>-0.068473</td>\n",
       "    </tr>\n",
       "    <tr>\n",
       "      <td>3</td>\n",
       "      <td>-0.101521</td>\n",
       "      <td>-0.196346</td>\n",
       "      <td>-0.337515</td>\n",
       "      <td>0.160084</td>\n",
       "      <td>-0.014852</td>\n",
       "      <td>-0.543641</td>\n",
       "      <td>2.406599</td>\n",
       "      <td>-1.333333</td>\n",
       "      <td>-0.431788</td>\n",
       "      <td>-0.1124</td>\n",
       "      <td>...</td>\n",
       "      <td>-1.336923</td>\n",
       "      <td>-0.430701</td>\n",
       "      <td>-0.114125</td>\n",
       "      <td>-0.130189</td>\n",
       "      <td>-0.102894</td>\n",
       "      <td>-0.047864</td>\n",
       "      <td>-0.045822</td>\n",
       "      <td>-0.051709</td>\n",
       "      <td>-0.065606</td>\n",
       "      <td>-0.068473</td>\n",
       "    </tr>\n",
       "    <tr>\n",
       "      <td>4</td>\n",
       "      <td>-0.101521</td>\n",
       "      <td>-0.196346</td>\n",
       "      <td>-0.337515</td>\n",
       "      <td>-1.015904</td>\n",
       "      <td>-0.014852</td>\n",
       "      <td>-0.041156</td>\n",
       "      <td>-0.415524</td>\n",
       "      <td>0.750000</td>\n",
       "      <td>-0.431788</td>\n",
       "      <td>-0.1124</td>\n",
       "      <td>...</td>\n",
       "      <td>0.747986</td>\n",
       "      <td>-0.430701</td>\n",
       "      <td>-0.114125</td>\n",
       "      <td>-0.130189</td>\n",
       "      <td>-0.102894</td>\n",
       "      <td>-0.047864</td>\n",
       "      <td>-0.045822</td>\n",
       "      <td>-0.051709</td>\n",
       "      <td>-0.065606</td>\n",
       "      <td>-0.068473</td>\n",
       "    </tr>\n",
       "  </tbody>\n",
       "</table>\n",
       "<p>5 rows × 112 columns</p>\n",
       "</div>"
      ],
      "text/plain": [
       "   NumProduct   UniqueA   UniqueB  hour_24h  total_time_spent   weekday  \\\n",
       "0   -0.527056 -0.196346 -0.337515  0.944075         -0.014977 -0.543641   \n",
       "1    0.749550 -0.196346  1.871901  0.160084         -0.014852 -1.548612   \n",
       "2   -0.527056 -0.196346 -0.337515  1.336071         -0.014977  0.461329   \n",
       "3   -0.101521 -0.196346 -0.337515  0.160084         -0.014852 -0.543641   \n",
       "4   -0.101521 -0.196346 -0.337515 -1.015904         -0.014852 -0.041156   \n",
       "\n",
       "   FirstA_A00001  FirstA_A00002  FirstA_A00003  FirstA_A00004  ...  \\\n",
       "0      -0.415524       0.750000      -0.431788        -0.1124  ...   \n",
       "1       2.406599      -1.333333      -0.431788        -0.1124  ...   \n",
       "2      -0.415524      -1.333333       2.315953        -0.1124  ...   \n",
       "3       2.406599      -1.333333      -0.431788        -0.1124  ...   \n",
       "4      -0.415524       0.750000      -0.431788        -0.1124  ...   \n",
       "\n",
       "   MostA_A00002  MostA_A00003  MostA_A00004  MostA_A00005  MostA_A00006  \\\n",
       "0      0.747986     -0.430701     -0.114125     -0.130189     -0.102894   \n",
       "1     -1.336923     -0.430701     -0.114125     -0.130189     -0.102894   \n",
       "2     -1.336923      2.321799     -0.114125     -0.130189     -0.102894   \n",
       "3     -1.336923     -0.430701     -0.114125     -0.130189     -0.102894   \n",
       "4      0.747986     -0.430701     -0.114125     -0.130189     -0.102894   \n",
       "\n",
       "   MostA_A00007  MostA_A00008  MostA_A00009  MostA_A00010  MostA_A00011  \n",
       "0     -0.047864     -0.045822     -0.051709     -0.065606     -0.068473  \n",
       "1     -0.047864     -0.045822     -0.051709     -0.065606     -0.068473  \n",
       "2     -0.047864     -0.045822     -0.051709     -0.065606     -0.068473  \n",
       "3     -0.047864     -0.045822     -0.051709     -0.065606     -0.068473  \n",
       "4     -0.047864     -0.045822     -0.051709     -0.065606     -0.068473  \n",
       "\n",
       "[5 rows x 112 columns]"
      ]
     },
     "execution_count": 542,
     "metadata": {},
     "output_type": "execute_result"
    }
   ],
   "source": [
    "test_scaled=pd.DataFrame(std.transform(test_preprocessed),columns=test_preprocessed.columns)\n",
    "test_scaled.head()"
   ]
  },
  {
   "cell_type": "markdown",
   "metadata": {},
   "source": [
    "# Logistic Regression"
   ]
  },
  {
   "cell_type": "code",
   "execution_count": 543,
   "metadata": {},
   "outputs": [
    {
     "name": "stderr",
     "output_type": "stream",
     "text": [
      "C:\\Users\\HP\\Anaconda3\\lib\\site-packages\\sklearn\\linear_model\\logistic.py:432: FutureWarning: Default solver will be changed to 'lbfgs' in 0.22. Specify a solver to silence this warning.\n",
      "  FutureWarning)\n"
     ]
    },
    {
     "data": {
      "text/plain": [
       "LogisticRegression(C=1.0, class_weight=None, dual=False, fit_intercept=True,\n",
       "                   intercept_scaling=1, l1_ratio=None, max_iter=100,\n",
       "                   multi_class='warn', n_jobs=None, penalty='l2',\n",
       "                   random_state=None, solver='warn', tol=0.0001, verbose=0,\n",
       "                   warm_start=False)"
      ]
     },
     "execution_count": 543,
     "metadata": {},
     "output_type": "execute_result"
    }
   ],
   "source": [
    "model=LogisticRegression()\n",
    "model.fit(X_scaled,y)"
   ]
  },
  {
   "cell_type": "code",
   "execution_count": 544,
   "metadata": {},
   "outputs": [],
   "source": [
    "predtest=model.predict(test_scaled)"
   ]
  },
  {
   "cell_type": "code",
   "execution_count": 586,
   "metadata": {},
   "outputs": [],
   "source": [
    "pred_final=predtest"
   ]
  },
  {
   "cell_type": "code",
   "execution_count": 588,
   "metadata": {},
   "outputs": [
    {
     "data": {
      "text/plain": [
       "array([0, 0, 0, ..., 0, 0, 0], dtype=int64)"
      ]
     },
     "execution_count": 588,
     "metadata": {},
     "output_type": "execute_result"
    }
   ],
   "source": [
    "pred_final"
   ]
  },
  {
   "cell_type": "code",
   "execution_count": 589,
   "metadata": {},
   "outputs": [],
   "source": [
    "\n",
    "pred_final= np.where((pred_final == 0),'female','male')"
   ]
  },
  {
   "cell_type": "code",
   "execution_count": 590,
   "metadata": {},
   "outputs": [
    {
     "data": {
      "text/plain": [
       "array(['female', 'female', 'female', ..., 'female', 'female', 'female'],\n",
       "      dtype='<U6')"
      ]
     },
     "execution_count": 590,
     "metadata": {},
     "output_type": "execute_result"
    }
   ],
   "source": [
    "pred_final"
   ]
  },
  {
   "cell_type": "code",
   "execution_count": 591,
   "metadata": {},
   "outputs": [],
   "source": [
    "submission=pd.DataFrame(index=session_id)\n",
    "submission[\"gender\"]=pred_final"
   ]
  },
  {
   "cell_type": "code",
   "execution_count": 592,
   "metadata": {},
   "outputs": [
    {
     "data": {
      "text/plain": [
       "session_id\n",
       "u12112    female\n",
       "u19725    female\n",
       "u11795    female\n",
       "u22639    female\n",
       "u18034    female\n",
       "Name: gender, dtype: object"
      ]
     },
     "execution_count": 592,
     "metadata": {},
     "output_type": "execute_result"
    }
   ],
   "source": [
    "submission.gender.head()"
   ]
  },
  {
   "cell_type": "code",
   "execution_count": 593,
   "metadata": {},
   "outputs": [],
   "source": [
    "pd.DataFrame(submission, columns=['gender']).to_csv('Results.csv')"
   ]
  },
  {
   "cell_type": "markdown",
   "metadata": {},
   "source": [
    "# Gaussian Naive Bayesian Classifier"
   ]
  },
  {
   "cell_type": "code",
   "execution_count": 595,
   "metadata": {},
   "outputs": [
    {
     "data": {
      "text/plain": [
       "GaussianNB(priors=None, var_smoothing=1e-09)"
      ]
     },
     "execution_count": 595,
     "metadata": {},
     "output_type": "execute_result"
    }
   ],
   "source": [
    "gnb = GaussianNB()\n",
    "gnb.fit(X_scaled,y)"
   ]
  },
  {
   "cell_type": "code",
   "execution_count": 596,
   "metadata": {},
   "outputs": [],
   "source": [
    "predtest=model.predict(test_scaled)"
   ]
  },
  {
   "cell_type": "code",
   "execution_count": 597,
   "metadata": {},
   "outputs": [],
   "source": [
    "pred_final=predtest"
   ]
  },
  {
   "cell_type": "code",
   "execution_count": 598,
   "metadata": {},
   "outputs": [],
   "source": [
    "pred_final= np.where((pred_final == 0),'female','male')"
   ]
  },
  {
   "cell_type": "code",
   "execution_count": 599,
   "metadata": {},
   "outputs": [],
   "source": [
    "submission=pd.DataFrame(index=session_id)\n",
    "submission[\"gender\"]=pred_final"
   ]
  },
  {
   "cell_type": "code",
   "execution_count": 600,
   "metadata": {},
   "outputs": [
    {
     "data": {
      "text/plain": [
       "session_id\n",
       "u12112    female\n",
       "u19725    female\n",
       "u11795    female\n",
       "u22639    female\n",
       "u18034    female\n",
       "Name: gender, dtype: object"
      ]
     },
     "execution_count": 600,
     "metadata": {},
     "output_type": "execute_result"
    }
   ],
   "source": [
    "submission.gender.head()"
   ]
  },
  {
   "cell_type": "code",
   "execution_count": 601,
   "metadata": {},
   "outputs": [],
   "source": [
    "pd.DataFrame(submission, columns=['gender']).to_csv('Results_NB.csv')"
   ]
  },
  {
   "cell_type": "code",
   "execution_count": null,
   "metadata": {},
   "outputs": [],
   "source": []
  }
 ],
 "metadata": {
  "kernelspec": {
   "display_name": "Python 3",
   "language": "python",
   "name": "python3"
  },
  "language_info": {
   "codemirror_mode": {
    "name": "ipython",
    "version": 3
   },
   "file_extension": ".py",
   "mimetype": "text/x-python",
   "name": "python",
   "nbconvert_exporter": "python",
   "pygments_lexer": "ipython3",
   "version": "3.7.3"
  }
 },
 "nbformat": 4,
 "nbformat_minor": 2
}
